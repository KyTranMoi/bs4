{
 "cells": [
  {
   "cell_type": "code",
   "execution_count": 136,
   "metadata": {},
   "outputs": [],
   "source": [
    "import requests\n",
    "from bs4 import BeautifulSoup\n",
    "from tqdm.notebook import tqdm\n",
    "import json"
   ]
  },
  {
   "cell_type": "code",
   "execution_count": 137,
   "metadata": {},
   "outputs": [
    {
     "name": "stdout",
     "output_type": "stream",
     "text": [
      "['cloud-computing', 'https://www.javatpoint.com/aws-tutorial', 'https://www.javatpoint.com/microsoft-azure', 'https://www.javatpoint.com/salesforce', 'https://www.javatpoint.com/google-cloud-platform']\n"
     ]
    }
   ],
   "source": [
    "respone = BeautifulSoup(requests.get('https://www.javatpoint.com/').content, 'html.parser')\n",
    "taget = respone.find_all('fieldset', {'class': 'gra1'})\n",
    "links = taget[4].find_all('a')\n",
    "linkss = [link.get('href') for link in links]\n",
    "tags = taget[4].find_all('p')\n",
    "tags = [tag.text for tag in tags]\n",
    "print(linkss)"
   ]
  },
  {
   "cell_type": "code",
   "execution_count": 138,
   "metadata": {},
   "outputs": [
    {
     "data": {
      "text/plain": [
       "'cloud-computing'"
      ]
     },
     "execution_count": 138,
     "metadata": {},
     "output_type": "execute_result"
    }
   ],
   "source": [
    "tags.pop(0)\n",
    "linkss.pop(0)"
   ]
  },
  {
   "cell_type": "code",
   "execution_count": 139,
   "metadata": {},
   "outputs": [
    {
     "name": "stdout",
     "output_type": "stream",
     "text": [
      "https://www.javatpoint.com/aws-tutorial\n",
      "71\n",
      "AWS\n"
     ]
    },
    {
     "data": {
      "application/vnd.jupyter.widget-view+json": {
       "model_id": "817b4df93aef44998476bb4207cd7f33",
       "version_major": 2,
       "version_minor": 0
      },
      "text/plain": [
       "Crawling ...:   0%|          | 0/71 [00:00<?, ?it/s]"
      ]
     },
     "metadata": {},
     "output_type": "display_data"
    },
    {
     "name": "stdout",
     "output_type": "stream",
     "text": [
      "https://www.javatpoint.com/microsoft-azure\n",
      "66\n",
      "Azure\n"
     ]
    },
    {
     "data": {
      "application/vnd.jupyter.widget-view+json": {
       "model_id": "4e775525dc8045da8d36fb3319926633",
       "version_major": 2,
       "version_minor": 0
      },
      "text/plain": [
       "Crawling ...:   0%|          | 0/66 [00:00<?, ?it/s]"
      ]
     },
     "metadata": {},
     "output_type": "display_data"
    },
    {
     "name": "stdout",
     "output_type": "stream",
     "text": [
      "https://www.javatpoint.com/salesforce\n",
      "50\n",
      "Salesforce\n"
     ]
    },
    {
     "data": {
      "application/vnd.jupyter.widget-view+json": {
       "model_id": "24fc49b1ca3945e6bae9d62907527428",
       "version_major": 2,
       "version_minor": 0
      },
      "text/plain": [
       "Crawling ...:   0%|          | 0/50 [00:00<?, ?it/s]"
      ]
     },
     "metadata": {},
     "output_type": "display_data"
    },
    {
     "name": "stdout",
     "output_type": "stream",
     "text": [
      "https://www.javatpoint.com/google-cloud-platform\n",
      "1\n",
      "Google Cloud\n"
     ]
    },
    {
     "data": {
      "application/vnd.jupyter.widget-view+json": {
       "model_id": "441ca66082e242099051aa34f8ffb436",
       "version_major": 2,
       "version_minor": 0
      },
      "text/plain": [
       "Crawling ...:   0%|          | 0/1 [00:00<?, ?it/s]"
      ]
     },
     "metadata": {},
     "output_type": "display_data"
    }
   ],
   "source": [
    "for x,y in zip(linkss, tags):\n",
    "    # print(x,y)\n",
    "    # ul = f'https://www.javatpoint.com/{x}'\n",
    "    print(x)\n",
    "    url = requests.get(url=x)\n",
    "    soup = BeautifulSoup(url.content, 'html.parser')\n",
    "    menu = soup.find('div',{'id':'menu'})\n",
    "    links = menu.find_all('a')\n",
    "    list_link = []\n",
    "    for link in links:\n",
    "        list_link.append('https://www.javatpoint.com/'+str(link.get('href')))\n",
    "    print(len(list_link))\n",
    "    print(y)\n",
    "    tag = 0\n",
    "    data = []\n",
    "\n",
    "    for i in tqdm(list_link, desc='Crawling ...'):\n",
    "        headers = {\n",
    "            'User-Agent': 'Mozilla/5.0 (Windows NT 10.0; Win64; x64) AppleWebKit/537.36 (KHTML, like Gecko) Chrome/89.0.4389.114 Safari/537.36'\n",
    "        }\n",
    "        result = BeautifulSoup(requests.get(i, headers=headers).content, 'html.parser')\n",
    "        content = result.find('div', attrs={'id': 'city'})\n",
    "        if content is None:\n",
    "            continue\n",
    "        title = content.find('h1', class_='h1')\n",
    "        if title is None:\n",
    "            continue\n",
    "        datas = {\n",
    "            \"url\": i,\n",
    "            \"title\": title.text.strip(),\n",
    "            \"content\": content.text.replace('Next →\\n← Prev\\n', '').replace('next →\\n← prev\\n', '').replace('next →',\n",
    "                                                                                                            '').replace(\n",
    "                '← prev', '').replace('Next →', '').replace('← Prev', '').strip(),\n",
    "            \"code\": f\"javatpoin_{y}_{tag}\",\n",
    "            \"language\": 'English',\n",
    "            \"tags\": f\"{y}\"\n",
    "        }\n",
    "        data.append(datas)\n",
    "        tag += 1\n",
    "\n",
    "    with open('data4.json', 'r', encoding='utf-8-sig') as f:\n",
    "        existing_data = json.load(f)\n",
    "\n",
    "    existing_data.extend(data)\n",
    "\n",
    "    with open('data4.json', 'w', encoding='utf-8') as f:\n",
    "        json.dump(existing_data, f, indent=4, ensure_ascii=False)\n"
   ]
  },
  {
   "cell_type": "code",
   "execution_count": null,
   "metadata": {},
   "outputs": [],
   "source": [
    "# tag = 0\n",
    "# data = []\n",
    "\n",
    "# for i in tqdm(list_link, desc='Crawling ...'):\n",
    "#     headers = {\n",
    "#         'User-Agent': 'Mozilla/5.0 (Windows NT 10.0; Win64; x64) AppleWebKit/537.36 (KHTML, like Gecko) Chrome/89.0.4389.114 Safari/537.36'\n",
    "#     }\n",
    "#     result = BeautifulSoup(requests.get(i, headers=headers).content, 'html.parser')\n",
    "#     content = result.find('div', attrs={'id': 'city'})\n",
    "#     if content is None:\n",
    "#         continue\n",
    "#     title = content.find('h1', class_='h1')\n",
    "#     if title is None:\n",
    "#         continue\n",
    "#     datas = {\n",
    "#         \"url\": i,\n",
    "#         \"title\": title.text.strip(),\n",
    "#         \"content\": content.text.replace('Next →\\n← Prev\\n', '').replace('next →\\n← prev\\n', '').replace('next →',\n",
    "#                                                                                                         '').replace(\n",
    "#             '← prev', '').replace('Next →', '').replace('← Prev', '').strip(),\n",
    "#         \"code\": f\"javatpoin_pygame_{tag}\",\n",
    "#         \"language\": 'English',\n",
    "#         \"tags\": \"pygame\"\n",
    "#     }\n",
    "#     data.append(datas)\n",
    "#     tag += 1\n",
    "\n",
    "# with open('data4.json', 'r', encoding='utf-8-sig') as f:\n",
    "#     existing_data = json.load(f)\n",
    "\n",
    "# existing_data.extend(data)\n",
    "\n",
    "# with open('data4.json', 'w', encoding='utf-8') as f:\n",
    "#     json.dump(existing_data, f, indent=4, ensure_ascii=False)\n"
   ]
  }
 ],
 "metadata": {
  "kernelspec": {
   "display_name": "Python 3",
   "language": "python",
   "name": "python3"
  },
  "language_info": {
   "codemirror_mode": {
    "name": "ipython",
    "version": 3
   },
   "file_extension": ".py",
   "mimetype": "text/x-python",
   "name": "python",
   "nbconvert_exporter": "python",
   "pygments_lexer": "ipython3",
   "version": "3.8.5"
  },
  "orig_nbformat": 4
 },
 "nbformat": 4,
 "nbformat_minor": 2
}
