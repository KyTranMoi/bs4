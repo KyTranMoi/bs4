{
 "cells": [
  {
   "cell_type": "code",
   "execution_count": 4,
   "metadata": {},
   "outputs": [],
   "source": [
    "import pandas as pd"
   ]
  },
  {
   "cell_type": "code",
   "execution_count": 9,
   "metadata": {},
   "outputs": [],
   "source": [
    "# Read the data\n",
    "data = pd.read_csv('Book1.csv')\n",
    "df = pd.DataFrame(data)\n",
    "\n",
    "# Lọc các phần tử có giá trị giống nhau trong cột \"Tag\"\n",
    "duplicates = df[df.duplicated(subset='Tag', keep=False)]\n",
    "unique_tags = df['Tag'].drop_duplicates()\n",
    "\n",
    "# Hiển thị kết quả\n",
    "unique_tags.to_csv('unique_tags.csv', index=False)"
   ]
  }
 ],
 "metadata": {
  "kernelspec": {
   "display_name": "Python 3",
   "language": "python",
   "name": "python3"
  },
  "language_info": {
   "codemirror_mode": {
    "name": "ipython",
    "version": 3
   },
   "file_extension": ".py",
   "mimetype": "text/x-python",
   "name": "python",
   "nbconvert_exporter": "python",
   "pygments_lexer": "ipython3",
   "version": "3.8.5"
  },
  "orig_nbformat": 4
 },
 "nbformat": 4,
 "nbformat_minor": 2
}
