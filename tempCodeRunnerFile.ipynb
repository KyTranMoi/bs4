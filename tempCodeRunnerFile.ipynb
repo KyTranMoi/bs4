import requests
from bs4 import BeautifulSoup
import json
from tqdm.notebook import tqdm