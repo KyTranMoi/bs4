{
 "cells": [
  {
   "cell_type": "code",
   "execution_count": 32,
   "metadata": {},
   "outputs": [],
   "source": [
    "import requests\n",
    "import json\n",
    "from bs4 import BeautifulSoup\n",
    "from tqdm.notebook import tqdm"
   ]
  },
  {
   "cell_type": "code",
   "execution_count": 33,
   "metadata": {},
   "outputs": [
    {
     "name": "stdout",
     "output_type": "stream",
     "text": [
      "['/artificial_intelligence_with_python/index.htm', '/caffe2/index.htm', '/deep_learning_with_keras/index.htm', '/h2o/index.htm', '/python_deep_learning/index.htm', '/keras/index.htm', '/knime/index.htm', '/logistic_regression_in_python/index.htm', '/machine_learning/index.htm', '/apache_mxnet/index.htm', '/pybrain/index.htm', '/pytorch/index.htm', '/scikit_learn/index.htm', '/tensorflow/index.htm', '/theano/index.htm', '/time_series/index.htm', '/machine_learning_with_python/index.htm', '/microsoft_cognitive_toolkit/index.htm', '/python_data_science/index.htm']\n",
      "19\n"
     ]
    }
   ],
   "source": [
    "respone = BeautifulSoup(requests.get('https://www.tutorialspoint.com/tutorialslibrary.htm#').content, 'html.parser')\n",
    "menu = respone.find('ul', {'id': 'machine_learning'})#cái này là lấy từng cái bảng \n",
    "links = menu.find_all('a')\n",
    "linkss = [link.get('href') for link in links]#cái này là lấy link từng cái bảng\n",
    "\n",
    "print(linkss)\n",
    "print(len(linkss))"
   ]
  },
  {
   "cell_type": "code",
   "execution_count": 34,
   "metadata": {},
   "outputs": [
    {
     "data": {
      "application/vnd.jupyter.widget-view+json": {
       "model_id": "a8cab863ba664061ac8c26212f36cdd2",
       "version_major": 2,
       "version_minor": 0
      },
      "text/plain": [
       "Crawling ...:   0%|          | 0/30 [00:00<?, ?it/s]"
      ]
     },
     "metadata": {},
     "output_type": "display_data"
    },
    {
     "data": {
      "application/vnd.jupyter.widget-view+json": {
       "model_id": "48201b94109c49bab72e45b31169c068",
       "version_major": 2,
       "version_minor": 0
      },
      "text/plain": [
       "Crawling ...:   0%|          | 0/11 [00:00<?, ?it/s]"
      ]
     },
     "metadata": {},
     "output_type": "display_data"
    },
    {
     "data": {
      "application/vnd.jupyter.widget-view+json": {
       "model_id": "ed4909714f6e47b0a79182ee4b297633",
       "version_major": 2,
       "version_minor": 0
      },
      "text/plain": [
       "Crawling ...:   0%|          | 0/17 [00:00<?, ?it/s]"
      ]
     },
     "metadata": {},
     "output_type": "display_data"
    },
    {
     "data": {
      "application/vnd.jupyter.widget-view+json": {
       "model_id": "17a66912c3314b39a3c2b1db8b33b85f",
       "version_major": 2,
       "version_minor": 0
      },
      "text/plain": [
       "Crawling ...:   0%|          | 0/9 [00:00<?, ?it/s]"
      ]
     },
     "metadata": {},
     "output_type": "display_data"
    },
    {
     "data": {
      "application/vnd.jupyter.widget-view+json": {
       "model_id": "659b5003ec284d8a975880632d997a6a",
       "version_major": 2,
       "version_minor": 0
      },
      "text/plain": [
       "Crawling ...:   0%|          | 0/12 [00:00<?, ?it/s]"
      ]
     },
     "metadata": {},
     "output_type": "display_data"
    },
    {
     "data": {
      "application/vnd.jupyter.widget-view+json": {
       "model_id": "3b3cd421b924494eadb0c68050b8607b",
       "version_major": 2,
       "version_minor": 0
      },
      "text/plain": [
       "Crawling ...:   0%|          | 0/21 [00:00<?, ?it/s]"
      ]
     },
     "metadata": {},
     "output_type": "display_data"
    },
    {
     "data": {
      "application/vnd.jupyter.widget-view+json": {
       "model_id": "ae1a72bb0bb646dc97ef05fe74bb2e3a",
       "version_major": 2,
       "version_minor": 0
      },
      "text/plain": [
       "Crawling ...:   0%|          | 0/13 [00:00<?, ?it/s]"
      ]
     },
     "metadata": {},
     "output_type": "display_data"
    },
    {
     "data": {
      "application/vnd.jupyter.widget-view+json": {
       "model_id": "757fea3c703349ef91550f391e51dda2",
       "version_major": 2,
       "version_minor": 0
      },
      "text/plain": [
       "Crawling ...:   0%|          | 0/15 [00:00<?, ?it/s]"
      ]
     },
     "metadata": {},
     "output_type": "display_data"
    },
    {
     "data": {
      "application/vnd.jupyter.widget-view+json": {
       "model_id": "297c7bc3ee104e16b068f5a8d0a5e2b9",
       "version_major": 2,
       "version_minor": 0
      },
      "text/plain": [
       "Crawling ...:   0%|          | 0/17 [00:00<?, ?it/s]"
      ]
     },
     "metadata": {},
     "output_type": "display_data"
    },
    {
     "data": {
      "application/vnd.jupyter.widget-view+json": {
       "model_id": "5308adb9841540989d41d006873a9891",
       "version_major": 2,
       "version_minor": 0
      },
      "text/plain": [
       "Crawling ...:   0%|          | 0/20 [00:00<?, ?it/s]"
      ]
     },
     "metadata": {},
     "output_type": "display_data"
    },
    {
     "data": {
      "application/vnd.jupyter.widget-view+json": {
       "model_id": "aaad4e011d98403cb4633794b7438511",
       "version_major": 2,
       "version_minor": 0
      },
      "text/plain": [
       "Crawling ...:   0%|          | 0/21 [00:00<?, ?it/s]"
      ]
     },
     "metadata": {},
     "output_type": "display_data"
    },
    {
     "data": {
      "application/vnd.jupyter.widget-view+json": {
       "model_id": "19ef81f9a2ce424893891b2a74055b99",
       "version_major": 2,
       "version_minor": 0
      },
      "text/plain": [
       "Crawling ...:   0%|          | 0/25 [00:00<?, ?it/s]"
      ]
     },
     "metadata": {},
     "output_type": "display_data"
    },
    {
     "data": {
      "application/vnd.jupyter.widget-view+json": {
       "model_id": "71e3131845714446a41feda038f6be02",
       "version_major": 2,
       "version_minor": 0
      },
      "text/plain": [
       "Crawling ...:   0%|          | 0/23 [00:00<?, ?it/s]"
      ]
     },
     "metadata": {},
     "output_type": "display_data"
    },
    {
     "data": {
      "application/vnd.jupyter.widget-view+json": {
       "model_id": "fa431932d7f342d99e8c14fc387907af",
       "version_major": 2,
       "version_minor": 0
      },
      "text/plain": [
       "Crawling ...:   0%|          | 0/26 [00:00<?, ?it/s]"
      ]
     },
     "metadata": {},
     "output_type": "display_data"
    },
    {
     "data": {
      "application/vnd.jupyter.widget-view+json": {
       "model_id": "5417433d756148f08d00ae86ef7b11d0",
       "version_major": 2,
       "version_minor": 0
      },
      "text/plain": [
       "Crawling ...:   0%|          | 0/15 [00:00<?, ?it/s]"
      ]
     },
     "metadata": {},
     "output_type": "display_data"
    },
    {
     "data": {
      "application/vnd.jupyter.widget-view+json": {
       "model_id": "2495e154d7474a6d86494af02e56aaf8",
       "version_major": 2,
       "version_minor": 0
      },
      "text/plain": [
       "Crawling ...:   0%|          | 0/22 [00:00<?, ?it/s]"
      ]
     },
     "metadata": {},
     "output_type": "display_data"
    },
    {
     "data": {
      "application/vnd.jupyter.widget-view+json": {
       "model_id": "9b5c015fca4d4c5cb3130b7615bd4bd3",
       "version_major": 2,
       "version_minor": 0
      },
      "text/plain": [
       "Crawling ...:   0%|          | 0/29 [00:00<?, ?it/s]"
      ]
     },
     "metadata": {},
     "output_type": "display_data"
    },
    {
     "data": {
      "application/vnd.jupyter.widget-view+json": {
       "model_id": "befc96bfe7e24a5d9bb0c34b7e7e9fd6",
       "version_major": 2,
       "version_minor": 0
      },
      "text/plain": [
       "Crawling ...:   0%|          | 0/23 [00:00<?, ?it/s]"
      ]
     },
     "metadata": {},
     "output_type": "display_data"
    },
    {
     "data": {
      "application/vnd.jupyter.widget-view+json": {
       "model_id": "9c91bb6b9f4c4788b65c590bd74b2f21",
       "version_major": 2,
       "version_minor": 0
      },
      "text/plain": [
       "Crawling ...:   0%|          | 0/7 [00:00<?, ?it/s]"
      ]
     },
     "metadata": {},
     "output_type": "display_data"
    }
   ],
   "source": [
    "sum_all =0\n",
    "for i in linkss:\n",
    "    url = 'https://www.tutorialspoint.com{}'.format(i)#tagert đến từng cái link của cái bảng phía trên\n",
    "    page = requests.get(url)\n",
    "    soup = BeautifulSoup(page.content, 'html.parser')\n",
    "    taget = soup.find(\"ul\", {\"class\": \"toc chapters\"})\n",
    "    tagets = taget.find_all('a')\n",
    "    list_link = []\n",
    "    for link in tagets:\n",
    "        list_link.append('https://www.tutorialspoint.com'+str(link.get('href')))#lấy ra từng cái link nhỏ trong mỗi cái link lớn\n",
    "        \n",
    "    tag=0\n",
    "    data = []\n",
    "\n",
    "    for i in tqdm(list_link, desc='Crawling ...'):\n",
    "        headers = {'User-Agent': 'Mozilla/5.0 (Windows NT 10.0; Win64; x64) AppleWebKit/537.36 (KHTML, like Gecko) Chrome/89.0.4389.114 Safari/537.36'}\n",
    "        result = BeautifulSoup(requests.get(i, headers=headers).content, 'html.parser')\n",
    "        content = result.find('div', attrs={'id':'mainContent'})\n",
    "        if content is None:\n",
    "            continue\n",
    "        title =  content.find('h1')\n",
    "        if title is None:\n",
    "            continue\n",
    "        datas= {\n",
    "            \"url\": i,\n",
    "            \"title\": title.text.strip(),\n",
    "            \"content\": content.text.strip().replace(\"Previous Page\",'').replace(\"Next Page\",''),\n",
    "            \"code\": f\"tutorialspoint_ML _{tag}\",#chú ý thay tag crawl\n",
    "            \"language\": 'English',\n",
    "            \"tags\": \"ML \"#chú ý thay tag crawl\n",
    "        }\n",
    "        data.append(datas)\n",
    "        tag += 1\n",
    "        sum_all += 1\n",
    "\n",
    "    with open('data5.json', 'r', encoding='utf-8-sig') as f:\n",
    "        existing_data = json.load(f)\n",
    "\n",
    "    existing_data.extend(data)\n",
    "\n",
    "    with open('data5.json', 'w', encoding='utf-8') as f:\n",
    "        json.dump(existing_data, f, indent=4, ensure_ascii=False)"
   ]
  },
  {
   "cell_type": "code",
   "execution_count": 35,
   "metadata": {},
   "outputs": [
    {
     "name": "stdout",
     "output_type": "stream",
     "text": [
      "351\n"
     ]
    }
   ],
   "source": [
    "print(sum_all)"
   ]
  }
 ],
 "metadata": {
  "kernelspec": {
   "display_name": "Python 3",
   "language": "python",
   "name": "python3"
  },
  "language_info": {
   "codemirror_mode": {
    "name": "ipython",
    "version": 3
   },
   "file_extension": ".py",
   "mimetype": "text/x-python",
   "name": "python",
   "nbconvert_exporter": "python",
   "pygments_lexer": "ipython3",
   "version": "3.8.5"
  },
  "orig_nbformat": 4
 },
 "nbformat": 4,
 "nbformat_minor": 2
}
