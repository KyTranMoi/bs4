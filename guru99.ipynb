{
 "cells": [
  {
   "cell_type": "code",
   "execution_count": 24,
   "metadata": {},
   "outputs": [],
   "source": [
    "import requests\n",
    "from bs4 import BeautifulSoup\n",
    "from tqdm.notebook import tqdm\n",
    "import json"
   ]
  },
  {
   "cell_type": "code",
   "execution_count": 25,
   "metadata": {},
   "outputs": [
    {
     "data": {
      "text/plain": [
       "['https://www.guru99.com/tensorflow-tutorial.html',\n",
       " 'https://www.guru99.com/r-tutorial.html',\n",
       " 'https://www.guru99.com/nltk-tutorial.html',\n",
       " 'https://www.guru99.com/artificial-intelligence-tutorial.html',\n",
       " 'https://www.guru99.com/data-science-tutorial.html',\n",
       " 'https://www.guru99.com/keras-tutorial.html',\n",
       " 'https://www.guru99.com/numpy-tutorial.html',\n",
       " 'https://www.guru99.com/pytorch-tutorial.html']"
      ]
     },
     "execution_count": 25,
     "metadata": {},
     "output_type": "execute_result"
    }
   ],
   "source": [
    "headers = {'User-Agent': 'Mozilla/5.0 (Windows NT 10.0; Win64; x64) AppleWebKit/537.36 (KHTML, like Gecko) Chrome/89.0.4389.114 Safari/537.36'}\n",
    "rsp = requests.get('https://www.guru99.com/', headers=headers)\n",
    "soubor = BeautifulSoup(rsp.text, 'html.parser')\n",
    "tagetsss= soubor.find_all('ul', {'id': 'java_technologies'})\n",
    "linkss = tagetsss[7].find_all('a')\n",
    "linkss = ['https://www.guru99.com'+link['href'] for link in linkss]\n",
    "linkss \n"
   ]
  },
  {
   "cell_type": "code",
   "execution_count": 26,
   "metadata": {},
   "outputs": [
    {
     "data": {
      "application/vnd.jupyter.widget-view+json": {
       "model_id": "f2b3fdc0781945cb9baafcd3be3376f8",
       "version_major": 2,
       "version_minor": 0
      },
      "text/plain": [
       "Crawling ...:   0%|          | 0/24 [00:00<?, ?it/s]"
      ]
     },
     "metadata": {},
     "output_type": "display_data"
    },
    {
     "data": {
      "application/vnd.jupyter.widget-view+json": {
       "model_id": "a4a5b24147ae40a39cb170489b06a659",
       "version_major": 2,
       "version_minor": 0
      },
      "text/plain": [
       "Crawling ...:   0%|          | 0/37 [00:00<?, ?it/s]"
      ]
     },
     "metadata": {},
     "output_type": "display_data"
    },
    {
     "data": {
      "application/vnd.jupyter.widget-view+json": {
       "model_id": "c3527b87d05f4d14b762a241bc310592",
       "version_major": 2,
       "version_minor": 0
      },
      "text/plain": [
       "Crawling ...:   0%|          | 0/8 [00:00<?, ?it/s]"
      ]
     },
     "metadata": {},
     "output_type": "display_data"
    },
    {
     "data": {
      "application/vnd.jupyter.widget-view+json": {
       "model_id": "fc63c1d9a13745c09cdd7ac87b86a97e",
       "version_major": 2,
       "version_minor": 0
      },
      "text/plain": [
       "Crawling ...: 0it [00:00, ?it/s]"
      ]
     },
     "metadata": {},
     "output_type": "display_data"
    },
    {
     "data": {
      "application/vnd.jupyter.widget-view+json": {
       "model_id": "ea2312a23c384037866142a1f1e28e71",
       "version_major": 2,
       "version_minor": 0
      },
      "text/plain": [
       "Crawling ...:   0%|          | 0/8 [00:00<?, ?it/s]"
      ]
     },
     "metadata": {},
     "output_type": "display_data"
    },
    {
     "name": "stdout",
     "output_type": "stream",
     "text": [
      "Timeout occurred while accessing https://www.guru99.comhttps://www.guru99.com/r-tutorial.html\n",
      "Timeout occurred while accessing https://www.guru99.comhttps://www.guru99.com/python-tutorials.html\n",
      "Timeout occurred while accessing https://www.guru99.comhttps://www.guru99.com/sas-tutorial.html\n",
      "Timeout occurred while accessing https://www.guru99.comhttps://www.guru99.com/bigdata-tutorials.html\n",
      "Timeout occurred while accessing https://www.guru99.comhttps://www.guru99.com/hive-tutorials.html\n",
      "Timeout occurred while accessing https://www.guru99.comhttps://www.guru99.com/tableau-tutorial.html\n",
      "Timeout occurred while accessing https://www.guru99.comhttps://www.guru99.com/pyspark-tutorial.html\n",
      "Timeout occurred while accessing https://www.guru99.comhttps://www.guru99.com/tensorflow-tutorial.html\n"
     ]
    },
    {
     "data": {
      "application/vnd.jupyter.widget-view+json": {
       "model_id": "339cfc31b4454087bebfa71bae53fceb",
       "version_major": 2,
       "version_minor": 0
      },
      "text/plain": [
       "Crawling ...: 0it [00:00, ?it/s]"
      ]
     },
     "metadata": {},
     "output_type": "display_data"
    },
    {
     "data": {
      "application/vnd.jupyter.widget-view+json": {
       "model_id": "f48331f08aeb4d49a56c532fca389b05",
       "version_major": 2,
       "version_minor": 0
      },
      "text/plain": [
       "Crawling ...: 0it [00:00, ?it/s]"
      ]
     },
     "metadata": {},
     "output_type": "display_data"
    },
    {
     "data": {
      "application/vnd.jupyter.widget-view+json": {
       "model_id": "3e2c7898a3d04afea98cbfba94d72a71",
       "version_major": 2,
       "version_minor": 0
      },
      "text/plain": [
       "Crawling ...: 0it [00:00, ?it/s]"
      ]
     },
     "metadata": {},
     "output_type": "display_data"
    }
   ],
   "source": [
    "sum_all = 0\n",
    "for x in linkss:\n",
    "    list_link = []\n",
    "    response = requests.get(x, headers=headers)\n",
    "    soub = BeautifulSoup(response.text, \"html.parser\")\n",
    "    taget = soub.find(\"div\", attrs={\"class\":\"entry-content single-content\"})\n",
    "    tables = taget.find_all(\"table\", attrs={\"class\":\"table\"})\n",
    "\n",
    "    for table in tables:\n",
    "        links = table.find_all(\"a\")\n",
    "        for link in links:\n",
    "            href = link.get(\"href\")\n",
    "            full_link = 'https://www.guru99.com' + href\n",
    "            list_link.append(full_link)\n",
    "\n",
    "    tag = 0\n",
    "    data = []\n",
    "\n",
    "    for i in tqdm(list_link, desc='Crawling ...'):\n",
    "        try:\n",
    "            st = requests.get(i, headers=headers, timeout=10)\n",
    "            if st.status_code == 200:\n",
    "                result = BeautifulSoup(st.content, 'html.parser')\n",
    "                content = result.find('div', attrs={'class':'entry-content single-content'})\n",
    "                if content is None:\n",
    "                    continue\n",
    "                title =  result.find('h1', class_='entry-title' )\n",
    "                if title is None:\n",
    "                    continue\n",
    "                datas = {\n",
    "                    \"url\": i,\n",
    "                    \"title\": title.text.strip(),\n",
    "                    \"content\": content.text.strip(),\n",
    "                    \"code\": f\"guru99_AI_{tag}\",\n",
    "                    \"language\": 'English',\n",
    "                    \"tags\": \"AI\"\n",
    "                }\n",
    "                data.append(datas)\n",
    "                tag += 1\n",
    "                sum_all += 1\n",
    "        except requests.exceptions.Timeout:\n",
    "            print(f\"Timeout occurred while accessing {i}\")\n",
    "            continue\n",
    "\n",
    "    with open('data6.json', 'r', encoding='utf-8-sig') as f:\n",
    "        existing_data = json.load(f)\n",
    "\n",
    "    existing_data.extend(data)\n",
    "\n",
    "    with open('data6.json', 'w', encoding='utf-8') as f:\n",
    "        json.dump(existing_data, f, indent=4, ensure_ascii=False)\n"
   ]
  },
  {
   "cell_type": "code",
   "execution_count": 27,
   "metadata": {},
   "outputs": [
    {
     "data": {
      "text/plain": [
       "69"
      ]
     },
     "execution_count": 27,
     "metadata": {},
     "output_type": "execute_result"
    }
   ],
   "source": [
    "sum_all"
   ]
  }
 ],
 "metadata": {
  "kernelspec": {
   "display_name": "Python 3",
   "language": "python",
   "name": "python3"
  },
  "language_info": {
   "codemirror_mode": {
    "name": "ipython",
    "version": 3
   },
   "file_extension": ".py",
   "mimetype": "text/x-python",
   "name": "python",
   "nbconvert_exporter": "python",
   "pygments_lexer": "ipython3",
   "version": "3.8.5"
  },
  "orig_nbformat": 4
 },
 "nbformat": 4,
 "nbformat_minor": 2
}
