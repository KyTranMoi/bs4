{
 "cells": [
  {
   "cell_type": "code",
   "execution_count": 1,
   "metadata": {},
   "outputs": [],
   "source": [
    "import requests\n",
    "from bs4 import BeautifulSoup\n",
    "import json\n",
    "from tqdm.notebook import tqdm\n"
   ]
  },
  {
   "cell_type": "code",
   "execution_count": 2,
   "metadata": {},
   "outputs": [
    {
     "data": {
      "application/vnd.jupyter.widget-view+json": {
       "model_id": "8a70126c6912449e979da5515a0c5119",
       "version_major": 2,
       "version_minor": 0
      },
      "text/plain": [
       "  0%|          | 0/99 [00:00<?, ?it/s]"
      ]
     },
     "metadata": {},
     "output_type": "display_data"
    },
    {
     "data": {
      "text/plain": [
       "['https://www.codeproject.com/search.aspx?q=machine+learning&doctypeid=1%3b2%3b3%3b13%3b4%3b5&pgsz=50&pgnum=1',\n",
       " 'https://www.codeproject.com/search.aspx?q=machine+learning&doctypeid=1%3b2%3b3%3b13%3b4%3b5&pgsz=50&pgnum=2',\n",
       " 'https://www.codeproject.com/search.aspx?q=machine+learning&doctypeid=1%3b2%3b3%3b13%3b4%3b5&pgsz=50&pgnum=3',\n",
       " 'https://www.codeproject.com/search.aspx?q=machine+learning&doctypeid=1%3b2%3b3%3b13%3b4%3b5&pgsz=50&pgnum=4',\n",
       " 'https://www.codeproject.com/search.aspx?q=machine+learning&doctypeid=1%3b2%3b3%3b13%3b4%3b5&pgsz=50&pgnum=5',\n",
       " 'https://www.codeproject.com/search.aspx?q=machine+learning&doctypeid=1%3b2%3b3%3b13%3b4%3b5&pgsz=50&pgnum=6',\n",
       " 'https://www.codeproject.com/search.aspx?q=machine+learning&doctypeid=1%3b2%3b3%3b13%3b4%3b5&pgsz=50&pgnum=7',\n",
       " 'https://www.codeproject.com/search.aspx?q=machine+learning&doctypeid=1%3b2%3b3%3b13%3b4%3b5&pgsz=50&pgnum=8',\n",
       " 'https://www.codeproject.com/search.aspx?q=machine+learning&doctypeid=1%3b2%3b3%3b13%3b4%3b5&pgsz=50&pgnum=9',\n",
       " 'https://www.codeproject.com/search.aspx?q=machine+learning&doctypeid=1%3b2%3b3%3b13%3b4%3b5&pgsz=50&pgnum=10',\n",
       " 'https://www.codeproject.com/search.aspx?q=machine+learning&doctypeid=1%3b2%3b3%3b13%3b4%3b5&pgsz=50&pgnum=11',\n",
       " 'https://www.codeproject.com/search.aspx?q=machine+learning&doctypeid=1%3b2%3b3%3b13%3b4%3b5&pgsz=50&pgnum=12',\n",
       " 'https://www.codeproject.com/search.aspx?q=machine+learning&doctypeid=1%3b2%3b3%3b13%3b4%3b5&pgsz=50&pgnum=13',\n",
       " 'https://www.codeproject.com/search.aspx?q=machine+learning&doctypeid=1%3b2%3b3%3b13%3b4%3b5&pgsz=50&pgnum=14',\n",
       " 'https://www.codeproject.com/search.aspx?q=machine+learning&doctypeid=1%3b2%3b3%3b13%3b4%3b5&pgsz=50&pgnum=15',\n",
       " 'https://www.codeproject.com/search.aspx?q=machine+learning&doctypeid=1%3b2%3b3%3b13%3b4%3b5&pgsz=50&pgnum=16',\n",
       " 'https://www.codeproject.com/search.aspx?q=machine+learning&doctypeid=1%3b2%3b3%3b13%3b4%3b5&pgsz=50&pgnum=17',\n",
       " 'https://www.codeproject.com/search.aspx?q=machine+learning&doctypeid=1%3b2%3b3%3b13%3b4%3b5&pgsz=50&pgnum=18',\n",
       " 'https://www.codeproject.com/search.aspx?q=machine+learning&doctypeid=1%3b2%3b3%3b13%3b4%3b5&pgsz=50&pgnum=19',\n",
       " 'https://www.codeproject.com/search.aspx?q=machine+learning&doctypeid=1%3b2%3b3%3b13%3b4%3b5&pgsz=50&pgnum=20',\n",
       " 'https://www.codeproject.com/search.aspx?q=machine+learning&doctypeid=1%3b2%3b3%3b13%3b4%3b5&pgsz=50&pgnum=21',\n",
       " 'https://www.codeproject.com/search.aspx?q=machine+learning&doctypeid=1%3b2%3b3%3b13%3b4%3b5&pgsz=50&pgnum=22',\n",
       " 'https://www.codeproject.com/search.aspx?q=machine+learning&doctypeid=1%3b2%3b3%3b13%3b4%3b5&pgsz=50&pgnum=23',\n",
       " 'https://www.codeproject.com/search.aspx?q=machine+learning&doctypeid=1%3b2%3b3%3b13%3b4%3b5&pgsz=50&pgnum=24',\n",
       " 'https://www.codeproject.com/search.aspx?q=machine+learning&doctypeid=1%3b2%3b3%3b13%3b4%3b5&pgsz=50&pgnum=25',\n",
       " 'https://www.codeproject.com/search.aspx?q=machine+learning&doctypeid=1%3b2%3b3%3b13%3b4%3b5&pgsz=50&pgnum=26',\n",
       " 'https://www.codeproject.com/search.aspx?q=machine+learning&doctypeid=1%3b2%3b3%3b13%3b4%3b5&pgsz=50&pgnum=27',\n",
       " 'https://www.codeproject.com/search.aspx?q=machine+learning&doctypeid=1%3b2%3b3%3b13%3b4%3b5&pgsz=50&pgnum=28',\n",
       " 'https://www.codeproject.com/search.aspx?q=machine+learning&doctypeid=1%3b2%3b3%3b13%3b4%3b5&pgsz=50&pgnum=29',\n",
       " 'https://www.codeproject.com/search.aspx?q=machine+learning&doctypeid=1%3b2%3b3%3b13%3b4%3b5&pgsz=50&pgnum=30',\n",
       " 'https://www.codeproject.com/search.aspx?q=machine+learning&doctypeid=1%3b2%3b3%3b13%3b4%3b5&pgsz=50&pgnum=31',\n",
       " 'https://www.codeproject.com/search.aspx?q=machine+learning&doctypeid=1%3b2%3b3%3b13%3b4%3b5&pgsz=50&pgnum=32',\n",
       " 'https://www.codeproject.com/search.aspx?q=machine+learning&doctypeid=1%3b2%3b3%3b13%3b4%3b5&pgsz=50&pgnum=33',\n",
       " 'https://www.codeproject.com/search.aspx?q=machine+learning&doctypeid=1%3b2%3b3%3b13%3b4%3b5&pgsz=50&pgnum=34',\n",
       " 'https://www.codeproject.com/search.aspx?q=machine+learning&doctypeid=1%3b2%3b3%3b13%3b4%3b5&pgsz=50&pgnum=35',\n",
       " 'https://www.codeproject.com/search.aspx?q=machine+learning&doctypeid=1%3b2%3b3%3b13%3b4%3b5&pgsz=50&pgnum=36',\n",
       " 'https://www.codeproject.com/search.aspx?q=machine+learning&doctypeid=1%3b2%3b3%3b13%3b4%3b5&pgsz=50&pgnum=37',\n",
       " 'https://www.codeproject.com/search.aspx?q=machine+learning&doctypeid=1%3b2%3b3%3b13%3b4%3b5&pgsz=50&pgnum=38',\n",
       " 'https://www.codeproject.com/search.aspx?q=machine+learning&doctypeid=1%3b2%3b3%3b13%3b4%3b5&pgsz=50&pgnum=39',\n",
       " 'https://www.codeproject.com/search.aspx?q=machine+learning&doctypeid=1%3b2%3b3%3b13%3b4%3b5&pgsz=50&pgnum=40',\n",
       " 'https://www.codeproject.com/search.aspx?q=machine+learning&doctypeid=1%3b2%3b3%3b13%3b4%3b5&pgsz=50&pgnum=41',\n",
       " 'https://www.codeproject.com/search.aspx?q=machine+learning&doctypeid=1%3b2%3b3%3b13%3b4%3b5&pgsz=50&pgnum=42',\n",
       " 'https://www.codeproject.com/search.aspx?q=machine+learning&doctypeid=1%3b2%3b3%3b13%3b4%3b5&pgsz=50&pgnum=43',\n",
       " 'https://www.codeproject.com/search.aspx?q=machine+learning&doctypeid=1%3b2%3b3%3b13%3b4%3b5&pgsz=50&pgnum=44',\n",
       " 'https://www.codeproject.com/search.aspx?q=machine+learning&doctypeid=1%3b2%3b3%3b13%3b4%3b5&pgsz=50&pgnum=45',\n",
       " 'https://www.codeproject.com/search.aspx?q=machine+learning&doctypeid=1%3b2%3b3%3b13%3b4%3b5&pgsz=50&pgnum=46',\n",
       " 'https://www.codeproject.com/search.aspx?q=machine+learning&doctypeid=1%3b2%3b3%3b13%3b4%3b5&pgsz=50&pgnum=47',\n",
       " 'https://www.codeproject.com/search.aspx?q=machine+learning&doctypeid=1%3b2%3b3%3b13%3b4%3b5&pgsz=50&pgnum=48',\n",
       " 'https://www.codeproject.com/search.aspx?q=machine+learning&doctypeid=1%3b2%3b3%3b13%3b4%3b5&pgsz=50&pgnum=49',\n",
       " 'https://www.codeproject.com/search.aspx?q=machine+learning&doctypeid=1%3b2%3b3%3b13%3b4%3b5&pgsz=50&pgnum=50',\n",
       " 'https://www.codeproject.com/search.aspx?q=machine+learning&doctypeid=1%3b2%3b3%3b13%3b4%3b5&pgsz=50&pgnum=51',\n",
       " 'https://www.codeproject.com/search.aspx?q=machine+learning&doctypeid=1%3b2%3b3%3b13%3b4%3b5&pgsz=50&pgnum=52',\n",
       " 'https://www.codeproject.com/search.aspx?q=machine+learning&doctypeid=1%3b2%3b3%3b13%3b4%3b5&pgsz=50&pgnum=53',\n",
       " 'https://www.codeproject.com/search.aspx?q=machine+learning&doctypeid=1%3b2%3b3%3b13%3b4%3b5&pgsz=50&pgnum=54',\n",
       " 'https://www.codeproject.com/search.aspx?q=machine+learning&doctypeid=1%3b2%3b3%3b13%3b4%3b5&pgsz=50&pgnum=55',\n",
       " 'https://www.codeproject.com/search.aspx?q=machine+learning&doctypeid=1%3b2%3b3%3b13%3b4%3b5&pgsz=50&pgnum=56',\n",
       " 'https://www.codeproject.com/search.aspx?q=machine+learning&doctypeid=1%3b2%3b3%3b13%3b4%3b5&pgsz=50&pgnum=57',\n",
       " 'https://www.codeproject.com/search.aspx?q=machine+learning&doctypeid=1%3b2%3b3%3b13%3b4%3b5&pgsz=50&pgnum=58',\n",
       " 'https://www.codeproject.com/search.aspx?q=machine+learning&doctypeid=1%3b2%3b3%3b13%3b4%3b5&pgsz=50&pgnum=59',\n",
       " 'https://www.codeproject.com/search.aspx?q=machine+learning&doctypeid=1%3b2%3b3%3b13%3b4%3b5&pgsz=50&pgnum=60',\n",
       " 'https://www.codeproject.com/search.aspx?q=machine+learning&doctypeid=1%3b2%3b3%3b13%3b4%3b5&pgsz=50&pgnum=61',\n",
       " 'https://www.codeproject.com/search.aspx?q=machine+learning&doctypeid=1%3b2%3b3%3b13%3b4%3b5&pgsz=50&pgnum=62',\n",
       " 'https://www.codeproject.com/search.aspx?q=machine+learning&doctypeid=1%3b2%3b3%3b13%3b4%3b5&pgsz=50&pgnum=63',\n",
       " 'https://www.codeproject.com/search.aspx?q=machine+learning&doctypeid=1%3b2%3b3%3b13%3b4%3b5&pgsz=50&pgnum=64',\n",
       " 'https://www.codeproject.com/search.aspx?q=machine+learning&doctypeid=1%3b2%3b3%3b13%3b4%3b5&pgsz=50&pgnum=65',\n",
       " 'https://www.codeproject.com/search.aspx?q=machine+learning&doctypeid=1%3b2%3b3%3b13%3b4%3b5&pgsz=50&pgnum=66',\n",
       " 'https://www.codeproject.com/search.aspx?q=machine+learning&doctypeid=1%3b2%3b3%3b13%3b4%3b5&pgsz=50&pgnum=67',\n",
       " 'https://www.codeproject.com/search.aspx?q=machine+learning&doctypeid=1%3b2%3b3%3b13%3b4%3b5&pgsz=50&pgnum=68',\n",
       " 'https://www.codeproject.com/search.aspx?q=machine+learning&doctypeid=1%3b2%3b3%3b13%3b4%3b5&pgsz=50&pgnum=69',\n",
       " 'https://www.codeproject.com/search.aspx?q=machine+learning&doctypeid=1%3b2%3b3%3b13%3b4%3b5&pgsz=50&pgnum=70',\n",
       " 'https://www.codeproject.com/search.aspx?q=machine+learning&doctypeid=1%3b2%3b3%3b13%3b4%3b5&pgsz=50&pgnum=71',\n",
       " 'https://www.codeproject.com/search.aspx?q=machine+learning&doctypeid=1%3b2%3b3%3b13%3b4%3b5&pgsz=50&pgnum=72',\n",
       " 'https://www.codeproject.com/search.aspx?q=machine+learning&doctypeid=1%3b2%3b3%3b13%3b4%3b5&pgsz=50&pgnum=73',\n",
       " 'https://www.codeproject.com/search.aspx?q=machine+learning&doctypeid=1%3b2%3b3%3b13%3b4%3b5&pgsz=50&pgnum=74',\n",
       " 'https://www.codeproject.com/search.aspx?q=machine+learning&doctypeid=1%3b2%3b3%3b13%3b4%3b5&pgsz=50&pgnum=75',\n",
       " 'https://www.codeproject.com/search.aspx?q=machine+learning&doctypeid=1%3b2%3b3%3b13%3b4%3b5&pgsz=50&pgnum=76',\n",
       " 'https://www.codeproject.com/search.aspx?q=machine+learning&doctypeid=1%3b2%3b3%3b13%3b4%3b5&pgsz=50&pgnum=77',\n",
       " 'https://www.codeproject.com/search.aspx?q=machine+learning&doctypeid=1%3b2%3b3%3b13%3b4%3b5&pgsz=50&pgnum=78',\n",
       " 'https://www.codeproject.com/search.aspx?q=machine+learning&doctypeid=1%3b2%3b3%3b13%3b4%3b5&pgsz=50&pgnum=79',\n",
       " 'https://www.codeproject.com/search.aspx?q=machine+learning&doctypeid=1%3b2%3b3%3b13%3b4%3b5&pgsz=50&pgnum=80',\n",
       " 'https://www.codeproject.com/search.aspx?q=machine+learning&doctypeid=1%3b2%3b3%3b13%3b4%3b5&pgsz=50&pgnum=81',\n",
       " 'https://www.codeproject.com/search.aspx?q=machine+learning&doctypeid=1%3b2%3b3%3b13%3b4%3b5&pgsz=50&pgnum=82',\n",
       " 'https://www.codeproject.com/search.aspx?q=machine+learning&doctypeid=1%3b2%3b3%3b13%3b4%3b5&pgsz=50&pgnum=83',\n",
       " 'https://www.codeproject.com/search.aspx?q=machine+learning&doctypeid=1%3b2%3b3%3b13%3b4%3b5&pgsz=50&pgnum=84',\n",
       " 'https://www.codeproject.com/search.aspx?q=machine+learning&doctypeid=1%3b2%3b3%3b13%3b4%3b5&pgsz=50&pgnum=85',\n",
       " 'https://www.codeproject.com/search.aspx?q=machine+learning&doctypeid=1%3b2%3b3%3b13%3b4%3b5&pgsz=50&pgnum=86',\n",
       " 'https://www.codeproject.com/search.aspx?q=machine+learning&doctypeid=1%3b2%3b3%3b13%3b4%3b5&pgsz=50&pgnum=87',\n",
       " 'https://www.codeproject.com/search.aspx?q=machine+learning&doctypeid=1%3b2%3b3%3b13%3b4%3b5&pgsz=50&pgnum=88',\n",
       " 'https://www.codeproject.com/search.aspx?q=machine+learning&doctypeid=1%3b2%3b3%3b13%3b4%3b5&pgsz=50&pgnum=89',\n",
       " 'https://www.codeproject.com/search.aspx?q=machine+learning&doctypeid=1%3b2%3b3%3b13%3b4%3b5&pgsz=50&pgnum=90',\n",
       " 'https://www.codeproject.com/search.aspx?q=machine+learning&doctypeid=1%3b2%3b3%3b13%3b4%3b5&pgsz=50&pgnum=91',\n",
       " 'https://www.codeproject.com/search.aspx?q=machine+learning&doctypeid=1%3b2%3b3%3b13%3b4%3b5&pgsz=50&pgnum=92',\n",
       " 'https://www.codeproject.com/search.aspx?q=machine+learning&doctypeid=1%3b2%3b3%3b13%3b4%3b5&pgsz=50&pgnum=93',\n",
       " 'https://www.codeproject.com/search.aspx?q=machine+learning&doctypeid=1%3b2%3b3%3b13%3b4%3b5&pgsz=50&pgnum=94',\n",
       " 'https://www.codeproject.com/search.aspx?q=machine+learning&doctypeid=1%3b2%3b3%3b13%3b4%3b5&pgsz=50&pgnum=95',\n",
       " 'https://www.codeproject.com/search.aspx?q=machine+learning&doctypeid=1%3b2%3b3%3b13%3b4%3b5&pgsz=50&pgnum=96',\n",
       " 'https://www.codeproject.com/search.aspx?q=machine+learning&doctypeid=1%3b2%3b3%3b13%3b4%3b5&pgsz=50&pgnum=97',\n",
       " 'https://www.codeproject.com/search.aspx?q=machine+learning&doctypeid=1%3b2%3b3%3b13%3b4%3b5&pgsz=50&pgnum=98',\n",
       " 'https://www.codeproject.com/search.aspx?q=machine+learning&doctypeid=1%3b2%3b3%3b13%3b4%3b5&pgsz=50&pgnum=99']"
      ]
     },
     "execution_count": 2,
     "metadata": {},
     "output_type": "execute_result"
    }
   ],
   "source": [
    "list_of_urls = []\n",
    "for i in tqdm(range(1, 100)):\n",
    "    list_of_urls.append(f'https://www.codeproject.com/search.aspx?q=machine+learning&doctypeid=1%3b2%3b3%3b13%3b4%3b5&pgsz=50&pgnum={i}')\n",
    "list_of_urls"
   ]
  },
  {
   "cell_type": "code",
   "execution_count": 3,
   "metadata": {},
   "outputs": [],
   "source": [
    "headers = {\n",
    "            'User-Agent': 'Mozilla/5.0 (Windows NT 10.0; Win64; x64) AppleWebKit/537.36 (KHTML, like Gecko) Chrome/89.0.4389.114 Safari/537.36'\n",
    "        }"
   ]
  },
  {
   "cell_type": "code",
   "execution_count": 4,
   "metadata": {},
   "outputs": [
    {
     "data": {
      "application/vnd.jupyter.widget-view+json": {
       "model_id": "4951fe8740a34a0b8f594caf612e40bf",
       "version_major": 2,
       "version_minor": 0
      },
      "text/plain": [
       "Crawling ...:   0%|          | 0/205 [00:00<?, ?it/s]"
      ]
     },
     "metadata": {},
     "output_type": "display_data"
    }
   ],
   "source": [
    "list_link = []\n",
    "for i in tqdm(list_of_urls, desc='Crawling ...'):\n",
    "    response = requests.get(i, headers=headers)\n",
    "    sub_soup = BeautifulSoup(response.content, 'html.parser')\n",
    "    taget = sub_soup.find_all('div', class_='hover-container content-list-item clearfix')\n",
    "    [list_link.append('https:'+i.find('a')['href']) for i in taget]\n"
   ]
  },
  {
   "cell_type": "code",
   "execution_count": 11,
   "metadata": {},
   "outputs": [
    {
     "name": "stderr",
     "output_type": "stream",
     "text": [
      "c:\\Users\\MSI20\\AppData\\Local\\Programs\\Python\\Python38\\lib\\threading.py:228: RuntimeWarning: coroutine 'main' was never awaited\n",
      "  self.release = lock.release\n",
      "RuntimeWarning: Enable tracemalloc to get the object allocation traceback\n"
     ]
    }
   ],
   "source": [
    "import requests\n",
    "from bs4 import BeautifulSoup\n",
    "import json\n",
    "from concurrent.futures import ThreadPoolExecutor\n",
    "\n",
    "session = requests.Session()\n",
    "session.max_redirects = 50\n",
    "\n",
    "sum_all = 0\n",
    "tag = 0\n",
    "data = []\n",
    "failed_links = []\n",
    "\n",
    "def crawl_link(i):\n",
    "    try:\n",
    "        redirect_count = 0\n",
    "        while redirect_count < 50:\n",
    "            st = session.get(i, headers=headers, timeout=10, allow_redirects=False)\n",
    "            if st.status_code == 200:\n",
    "                break\n",
    "            elif st.status_code == 302:\n",
    "                redirect_count += 1\n",
    "                i = st.headers['Location']\n",
    "            else:\n",
    "                print(f\"Failed to access {i} with status code {st.status_code}\")\n",
    "                break\n",
    "\n",
    "        if st.status_code == 200:\n",
    "            result = BeautifulSoup(st.content, 'html.parser')\n",
    "            content = result.find('div', attrs={'id': 'post-content-wrapper'})\n",
    "            if content is None:\n",
    "                return None\n",
    "            title = result.find('h1', attrs={'data-query': 'post-title'})\n",
    "            if title is None:\n",
    "                return None\n",
    "            datas = {\n",
    "                \"url\": i,\n",
    "                \"title\": title.text.strip(),\n",
    "                \"content\": content.text.strip(),\n",
    "                \"code\": f\"codeproject_CV_{tag}\",\n",
    "                \"language\": 'English',\n",
    "                \"tags\": \"CV\"\n",
    "            }\n",
    "            return datas\n",
    "    except requests.exceptions.Timeout:\n",
    "        print(f\"Timeout occurred while accessing {i}\")\n",
    "        return None\n",
    "\n",
    "# Sử dụng ThreadPoolExecutor để chạy các yêu cầu mạng song song\n",
    "with ThreadPoolExecutor() as executor:\n",
    "    # Sử dụng map() để ánh xạ các yêu cầu mạng vào các luồng\n",
    "    results = list(executor.map(crawl_link, list_link))\n",
    "\n",
    "for result in results:\n",
    "    if result is not None:\n",
    "        data.append(result)\n",
    "        tag += 1\n",
    "        sum_all += 1\n",
    "    else:\n",
    "        failed_links.append(i)\n",
    "\n",
    "with open('data6.json', 'r', encoding='utf-8-sig') as f:\n",
    "    existing_data = json.load(f)\n",
    "\n",
    "existing_data.extend(data)\n",
    "\n",
    "with open('data6.json', 'w', encoding='utf-8') as f:\n",
    "    json.dump(existing_data, f, indent=4, ensure_ascii=False)\n",
    "\n",
    "print(f\"Total completed requests: {sum_all}\")\n"
   ]
  }
 ],
 "metadata": {
  "kernelspec": {
   "display_name": "Python 3",
   "language": "python",
   "name": "python3"
  },
  "language_info": {
   "codemirror_mode": {
    "name": "ipython",
    "version": 3
   },
   "file_extension": ".py",
   "mimetype": "text/x-python",
   "name": "python",
   "nbconvert_exporter": "python",
   "pygments_lexer": "ipython3",
   "version": "3.8.5"
  },
  "orig_nbformat": 4
 },
 "nbformat": 4,
 "nbformat_minor": 2
}
