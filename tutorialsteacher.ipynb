{
 "cells": [
  {
   "cell_type": "code",
   "execution_count": 43,
   "metadata": {},
   "outputs": [],
   "source": [
    "import requests\n",
    "from bs4 import BeautifulSoup\n",
    "from tqdm.notebook import tqdm\n",
    "import json"
   ]
  },
  {
   "cell_type": "code",
   "execution_count": 44,
   "metadata": {},
   "outputs": [
    {
     "data": {
      "text/plain": [
       "12"
      ]
     },
     "execution_count": 44,
     "metadata": {},
     "output_type": "execute_result"
    }
   ],
   "source": [
    "response = requests.get(\"https://www.tutorialsteacher.com/regex\")\n",
    "soub = BeautifulSoup(response.text, \"html.parser\")\n",
    "taget = soub.find(\"ul\", {\"id\": \"leftmenu\"})\n",
    "link = taget.find_all(\"a\")\n",
    "list_link = ['https://www.tutorialsteacher.com/'+link.get(\"href\") for link in link]\n",
    "# list_link.pop(0)\n",
    "len(list_link)\n",
    "# list_link"
   ]
  },
  {
   "cell_type": "code",
   "execution_count": 45,
   "metadata": {},
   "outputs": [
    {
     "data": {
      "application/vnd.jupyter.widget-view+json": {
       "model_id": "4496f8a3047a4ca9818e3514ac3181f0",
       "version_major": 2,
       "version_minor": 0
      },
      "text/plain": [
       "Crawling ...:   0%|          | 0/12 [00:00<?, ?it/s]"
      ]
     },
     "metadata": {},
     "output_type": "display_data"
    }
   ],
   "source": [
    "tag=0\n",
    "data = []\n",
    "\n",
    "for i in tqdm(list_link, desc='Crawling ...'):\n",
    "    headers = {'User-Agent': 'Mozilla/5.0 (Windows NT 10.0; Win64; x64) AppleWebKit/537.36 (KHTML, like Gecko) Chrome/89.0.4389.114 Safari/537.36'}\n",
    "    result = BeautifulSoup(requests.get(i, headers=headers).content, 'html.parser')\n",
    "    content = result.find('article', attrs={'class':'article'})\n",
    "    if content is None:\n",
    "        continue\n",
    "    title =  content.find('h1')\n",
    "    if title is None:\n",
    "        continue\n",
    "    datas= {\n",
    "        \"url\": i,\n",
    "        \"title\": title.text.strip(),\n",
    "        \"content\": content.text.strip().replace(\"Previous Page\",'').replace(\"Next Page\",''),\n",
    "        \"code\": f\"tutorialsteacher_REGEX__{tag}\",\n",
    "        \"language\": 'English',\n",
    "        \"tags\": \"REGEX\"\n",
    "    }\n",
    "    data.append(datas)\n",
    "    tag += 1\n",
    "\n",
    "with open('data6.json', 'r', encoding='utf-8-sig') as f:\n",
    "    existing_data = json.load(f)\n",
    "\n",
    "existing_data.extend(data)\n",
    "\n",
    "with open('data6.json', 'w', encoding='utf-8') as f:\n",
    "    json.dump(existing_data, f, indent=4, ensure_ascii=False)"
   ]
  }
 ],
 "metadata": {
  "kernelspec": {
   "display_name": "Python 3",
   "language": "python",
   "name": "python3"
  },
  "language_info": {
   "codemirror_mode": {
    "name": "ipython",
    "version": 3
   },
   "file_extension": ".py",
   "mimetype": "text/x-python",
   "name": "python",
   "nbconvert_exporter": "python",
   "pygments_lexer": "ipython3",
   "version": "3.8.5"
  },
  "orig_nbformat": 4
 },
 "nbformat": 4,
 "nbformat_minor": 2
}
